{
 "cells": [
  {
   "cell_type": "markdown",
   "metadata": {},
   "source": [
    "QuantifiedMe\n",
    "============\n",
    "\n",
    "**Created by:** Erik Bjäreholt   ([GitHub](https://github.com/ErikBjare), [LinkedIn](https://www.linkedin.com/in/erikbjareholt/))\n",
    "<br><b>Get the latest version at: https://github.com/ErikBjare/quantifiedme</b>\n",
    "\n",
    "A bunch of helpful visualizations for managing behavior, productivity, health, and life in general.\n",
    "\n",
    "> *I often say that when you can measure what you are speaking about, and express it in numbers, you know something about it; but when you cannot express it in numbers, your knowledge is of a meagre and unsatisfactory kind; it may be the beginning of knowledge, but you have scarcely, in your thoughts, advanced to the stage of science, whatever the matter may be.*\n",
    ">\n",
    ">   \\-  ***William Thomson*** (Lord Kelvin), Lecture on \"Electrical Units of Measurement\" (1883)"
   ]
  },
  {
   "cell_type": "markdown",
   "metadata": {},
   "source": [
    "# Table of contents\n",
    "\n",
    "TODO: Build automatically\n",
    "\n",
    "- [Setup](#Setup)\n",
    "  - [Set window title](#Set-window-title)\n",
    "- [Load data](#Load-data)\n",
    "  - [Load ActivityWatch data](#Load-ActivityWatch-data)\n",
    "  - [Load SmarterTime data](#Load-SmarterTime-data)\n",
    "  - [Load Toggl data](#Load-Toggl-data)\n",
    "- [Annotate](#Annotate-data)\n",
    "- [Visualize](#Visualize)\n",
    "    "
   ]
  },
  {
   "cell_type": "markdown",
   "metadata": {},
   "source": [
    "# Setup\n",
    "\n",
    "First we do some imports, and set some variables used in the rest of the program."
   ]
  },
  {
   "cell_type": "code",
   "execution_count": null,
   "metadata": {},
   "outputs": [],
   "source": [
    "from datetime import datetime, time, date\n",
    "from pathlib import Path\n",
    "\n",
    "import matplotlib.pyplot as plt\n",
    "import pytz\n",
    "\n",
    "from IPython.utils import io\n",
    "from IPython.core.display import display, HTML\n",
    "\n",
    "import aw_core\n",
    "from aw_core.models import Event\n",
    "import aw_research, aw_research.classify\n",
    "from aw_research.classify import _union_no_overlap\n",
    "\n",
    "import scripts.location as locate\n",
    "import build_dashboard as lib\n",
    "\n",
    "your_timezone = pytz.timezone('Europe/Stockholm')"
   ]
  },
  {
   "cell_type": "markdown",
   "metadata": {},
   "source": [
    "## Set window title\n",
    "\n",
    "The below sets the window title to something reasonable more descriptive so that ActivityWatch can keep track of it. (Especially useful in "
   ]
  },
  {
   "cell_type": "code",
   "execution_count": null,
   "metadata": {},
   "outputs": [],
   "source": [
    "%%javascript\n",
    "document.title='QuantifiedMe - Jupyter'"
   ]
  },
  {
   "cell_type": "markdown",
   "metadata": {},
   "source": [
    "# Load data\n",
    "\n",
    "We want to data from several sources. Every next source will fill eventual gaps from previous sources, which is made possible thanks to `_union_no_overlap`."
   ]
  },
  {
   "cell_type": "markdown",
   "metadata": {},
   "source": [
    "## Load ActivityWatch data\n",
    "\n",
    "Retrieve events from aw-server. Queried for active windows combined with browser history and filters by AFK/audible."
   ]
  },
  {
   "cell_type": "code",
   "execution_count": null,
   "metadata": {},
   "outputs": [],
   "source": [
    "days_back = 90\n",
    "now = datetime.now() # datetime.now()\n",
    "since = datetime.combine((now - timedelta(days=days_back)).date(), time())\n",
    "events_aw = aw_research.classify.get_events(since=since, end=now, include_smartertime=False, include_toggl=False)\n",
    "for e in events_aw:\n",
    "    e.data['$source'] = 'activitywatch'\n",
    "events = events_aw"
   ]
  },
  {
   "cell_type": "markdown",
   "metadata": {},
   "source": [
    "## Load SmarterTime data\n",
    "\n",
    "SmarterTime is an Android app to track your device usage. This loads an ActivityWatch bucket that I converted from the app export."
   ]
  },
  {
   "cell_type": "code",
   "execution_count": null,
   "metadata": {},
   "outputs": [],
   "source": [
    "smartertime_awbucket_path = 'smartertime2activitywatch/smartertime_export_2018-12-23_f64e5977.awbucket.json'\n",
    "\n",
    "events_smartertime = aw_research.classify._get_events_smartertime(since, filepath=smartertime_awbucket_path)\n",
    "for e in events_smartertime:\n",
    "    e.data['$source'] = 'smartertime'\n",
    "events = _union_no_overlap(events, events_smartertime)"
   ]
  },
  {
   "cell_type": "markdown",
   "metadata": {},
   "source": [
    "## Load Toggl data"
   ]
  },
  {
   "cell_type": "code",
   "execution_count": null,
   "metadata": {},
   "outputs": [],
   "source": [
    "from toggl import api, utils\n",
    "logging.getLogger('toggl.utils').setLevel(logging.WARNING)\n",
    "\n",
    "import_toggl = True\n",
    "\n",
    "if import_toggl:\n",
    "    # [x] TODO: For some reason this doesn't get all history, consider just switching back to loading from export (at least for older events)\n",
    "    # The maintainer of togglcli fixed it quickly, huge thanks! https://github.com/AuHau/toggl-cli/issues/87\n",
    "    \n",
    "    def entries_from_all_workspaces():\n",
    "        # [ ] TODO: Several issues, such as not setting the user of each TimeEntry and setting the same workspace on every TimeEntry\n",
    "        workspaces = list(api.Workspace.objects.all())\n",
    "        print(f'Found {len(workspaces)} workspaces: {list(w.name for w in workspaces)}')\n",
    "        entries = __builtins__.sum([list(api.TimeEntry.objects.all_from_reports(start=since, stop=now, workspace=workspace)) for workspace in workspaces], [])\n",
    "        for e in entries[-10:]:\n",
    "            print(e['workspace'], e['project'])\n",
    "        return [e.to_dict() for e in entries]\n",
    "    \n",
    "    def entries_from_main_workspace():\n",
    "        entries = list(api.TimeEntry.objects.all_from_reports(start=since, stop=now))\n",
    "        return [e.to_dict() for e in entries]\n",
    "    \n",
    "    entries = entries_from_main_workspace()\n",
    "    print(f\"Found {len(entries)} time entries in Toggl\")\n",
    "    events_toggl = []\n",
    "    for e in entries:\n",
    "        if e['start'] < since.astimezone(timezone.utc):\n",
    "            continue\n",
    "        project = e['project'].name if e['project'] else 'no project'\n",
    "        description = e['description'] or 'no description'\n",
    "        events_toggl.append(Event(timestamp=e['start'].isoformat(), \n",
    "                                  duration=e['duration'] / 1000,\n",
    "                                  data={'app': project, \n",
    "                                        'title': f\"{project} -> {description}\",\n",
    "                                        '$source': 'toggl'}))\n",
    "    events_toggl = sorted(events_toggl, key=lambda e: e.timestamp)\n",
    "    events = _union_no_overlap(events, events_toggl)"
   ]
  },
  {
   "cell_type": "markdown",
   "metadata": {},
   "source": [
    "## Create fake data"
   ]
  },
  {
   "cell_type": "code",
   "execution_count": null,
   "metadata": {},
   "outputs": [],
   "source": [
    "data_weights = {\n",
    "    \n",
    "}\n",
    "\n",
    "def create_fake_events():\n",
    "    yield Event(duration=0, data={'': ''})"
   ]
  },
  {
   "cell_type": "markdown",
   "metadata": {},
   "source": [
    "## Verify data\n",
    "Just to make sure there are no bugs in underlying code."
   ]
  },
  {
   "cell_type": "code",
   "execution_count": null,
   "metadata": {},
   "outputs": [],
   "source": [
    "# Ensure no events older than `since`\n",
    "assert all(since <= e.timestamp for e in events)\n",
    "assert all(e.timestamp + e.duration <= now for e in events)\n",
    "# Ensure no events overlap\n",
    "assert all(e1.timestamp + e1.duration <= e2.timestamp for e1, e2 in zip(events[:-1], events[1:]))"
   ]
  },
  {
   "cell_type": "markdown",
   "metadata": {},
   "source": [
    "# Annotate data"
   ]
  },
  {
   "cell_type": "markdown",
   "metadata": {},
   "source": [
    "## Define tagging rules\n",
    "\n",
    "First we need to specify rules used in categorization and tagging.\n",
    "\n",
    "The rules are specified by a list of tuples on the format `(regex, category, parent_category)`. You can write them within the notebook or load them from a CSV file."
   ]
  },
  {
   "cell_type": "code",
   "execution_count": null,
   "metadata": {},
   "outputs": [],
   "source": [
    "classes = [\n",
    "    # Media\n",
    "    (r'Spotify|spotify.com', 'Music', 'Media'),\n",
    "    (r'YouTube|youtube.com', 'Video', 'Media'),\n",
    "    \n",
    "    # Work\n",
    "    (r'github.com|stackoverflow.com', 'Programming', 'Work'),\n",
    "    (r'[Aa]ctivity[Ww]atch|aw-.*', 'ActivityWatch', 'Programming'),\n",
    "    (r'[Qq]uantified[Mm]e', 'QuantifiedMe', 'Programming'),\n",
    "]\n",
    "\n",
    "# Now load the classes from within the notebook, or from a CSV file.\n",
    "load_from_csv = True\n",
    "if load_from_csv:\n",
    "    aw_research.classify._init_classes(class_csv_filename=\"./aw-research/category_regexes.csv\")\n",
    "else:\n",
    "    aw_research.classify._init_classes(new_classes=classes)"
   ]
  },
  {
   "cell_type": "markdown",
   "metadata": {},
   "source": [
    "## Annotate events with tags and category\n",
    "\n",
    "Now we will actually annotate the events with our defined tags/categories.\n",
    "Classify, which adds `$tags` and `$category_hierarchy` fields to event data"
   ]
  },
  {
   "cell_type": "code",
   "execution_count": null,
   "metadata": {},
   "outputs": [],
   "source": [
    "events = aw_research.classify.classify(events)"
   ]
  },
  {
   "cell_type": "markdown",
   "metadata": {},
   "source": [
    "# Visualize\n",
    "\n",
    "There are many ways to visualize the data, here are some methods."
   ]
  },
  {
   "cell_type": "markdown",
   "metadata": {},
   "source": [
    "\n",
    "## Daily time plot\n",
    "\n",
    "Useful to see how much you've engaged in a particular activity over time."
   ]
  },
  {
   "cell_type": "code",
   "execution_count": null,
   "metadata": {},
   "outputs": [],
   "source": [
    "def categorytime_per_day(events, category):\n",
    "    events = [e for e in events if category in e.data[\"$category_hierarchy\"]]\n",
    "    if not events:\n",
    "        raise Exception('No events to calculate on')\n",
    "    ts = pd.Series([e.duration.total_seconds() / 3600 for e in events], \n",
    "                   index=pd.DatetimeIndex([e.timestamp for e in events]).tz_convert(\"UTC\"))\n",
    "    return ts.resample('1D').apply('sum')\n",
    "\n",
    "def plot_category(cat, big=False):\n",
    "    fig = plt.figure(figsize=(18, 4 if big else 2.5))\n",
    "    #aw_research.classify._plot_category_daily_trend(events, [cat])\n",
    "    ts  = categorytime_per_day(events, cat)\n",
    "    ts.plot(label=f\"{cat}: daily\", legend=True)\n",
    "    ts.rolling(7, min_periods=3).mean().plot(label=f\"{cat}: 7d SMA\", legend=True)\n",
    "    ts.rolling(30, min_periods=7).mean().plot(label=f\"{cat}: 30d SMA\", legend=True)\n",
    "    plt.legend(loc='upper right')\n",
    "    plt.ylim(0)\n",
    "    plt.grid(linestyle='--')\n",
    "    plt.tight_layout()\n",
    "\n",
    "# All logged activity\n",
    "plot_category('', big=True)"
   ]
  },
  {
   "cell_type": "code",
   "execution_count": null,
   "metadata": {},
   "outputs": [],
   "source": [
    "category_wages = {\n",
    "    #\"Work\": 50,\n",
    "    \"ActivityWatch\": 100,\n",
    "    \"QuantifiedMe\": 100,\n",
    "    \"Thankful\": 200,\n",
    "    \"School\": 300,\n",
    "    #\"Self-directed\": 200,\n",
    "    #\"Maths\": 300,\n",
    "    #\"Control\": 200,\n",
    "}\n",
    "\n",
    "\n",
    "def plot_wages(events, category_wages):\n",
    "    df = pd.DataFrame()\n",
    "    for cat, wage in category_wages.items():\n",
    "        df[cat] = wage * categorytime_per_day(events, cat)\n",
    "    df.plot.area(label='total', stacked=True, legend=True, figsize=(16, 5))\n",
    "    df.sum(axis=1).rolling(7).mean().plot(label='Total 7d SMA', legend=True)\n",
    "    plt.grid(linestyle='--')\n",
    "    plt.tight_layout()\n",
    "    \n",
    "plot_wages(events, category_wages)"
   ]
  },
  {
   "cell_type": "code",
   "execution_count": null,
   "metadata": {
    "scrolled": false
   },
   "outputs": [],
   "source": [
    "# Work-related\n",
    "plot_category('Work', big=True)\n",
    "plot_category('ActivityWatch')\n",
    "plot_category('QuantifiedMe')\n",
    "plot_category('Thankful')\n",
    "plot_category('School')\n",
    "plot_category('Maths')"
   ]
  },
  {
   "cell_type": "code",
   "execution_count": null,
   "metadata": {},
   "outputs": [],
   "source": [
    "# Entertainment\n",
    "plot_category('Media', big=True)\n",
    "plot_category('Social Media')\n",
    "plot_category('Video')\n",
    "plot_category('Music')"
   ]
  },
  {
   "cell_type": "markdown",
   "metadata": {},
   "source": [
    "## Category sunburst\n",
    "\n",
    "Works with the category hierarchy to create a good overview of how time has been spent during a given period."
   ]
  },
  {
   "cell_type": "code",
   "execution_count": null,
   "metadata": {},
   "outputs": [],
   "source": [
    "now = datetime.now()\n",
    "start_of_today = datetime.combine(now.date(), time()).astimezone(your_timezone)\n",
    "events_today = [e for e in events if start_of_today < e.timestamp]"
   ]
  },
  {
   "cell_type": "code",
   "execution_count": null,
   "metadata": {},
   "outputs": [],
   "source": [
    "def plot_sunburst(events):\n",
    "    plt.figure(figsize=(6, 6))\n",
    "    aw_research.classify._plot_category_hierarchy_sunburst(events)\n",
    "    display(HTML(f\"<h2>Duration: {__builtin__.sum((e.duration for e in events), timedelta(0))}</h2>\"))"
   ]
  },
  {
   "cell_type": "code",
   "execution_count": null,
   "metadata": {
    "scrolled": false
   },
   "outputs": [],
   "source": [
    "plot_sunburst(events_today)\n",
    "#HTML(\"<div style='height: 60em'>test1<br>test2</div>\")"
   ]
  },
  {
   "cell_type": "code",
   "execution_count": null,
   "metadata": {},
   "outputs": [],
   "source": [
    "plot_sunburst(events)"
   ]
  },
  {
   "cell_type": "code",
   "execution_count": null,
   "metadata": {},
   "outputs": [],
   "source": []
  },
  {
   "cell_type": "markdown",
   "metadata": {},
   "source": [
    "# Uncategorized"
   ]
  },
  {
   "cell_type": "code",
   "execution_count": null,
   "metadata": {
    "slideshow": {
     "slide_type": "-"
    }
   },
   "outputs": [],
   "source": [
    "def time_per_keyval(events, key):\n",
    "    vals = defaultdict(lambda: timedelta(0))\n",
    "    for e in events:\n",
    "        if key in e.data:\n",
    "            vals[e.data[key]] += e.duration\n",
    "        else:\n",
    "            vals[f'key {key} did not exist'] += e.duration\n",
    "    return vals\n",
    "\n",
    "def print_time_per_keyval(events, key):\n",
    "    from tabulate import tabulate\n",
    "    l = sorted([(v, k) for k, v in time_per_keyval(events, key).items()], reverse=True)\n",
    "    print(tabulate(l[:20], headers=['time', 'val']))\n",
    "    \n",
    "events_uncategorized = [e for e in events if 'Uncategorized' in e.data['$tags']]\n",
    "print_time_per_keyval(events_uncategorized, 'title')"
   ]
  },
  {
   "cell_type": "code",
   "execution_count": null,
   "metadata": {},
   "outputs": [],
   "source": [
    "print_time_per_keyval(events, '$source')"
   ]
  },
  {
   "cell_type": "markdown",
   "metadata": {},
   "source": [
    "# Locations"
   ]
  },
  {
   "cell_type": "code",
   "execution_count": null,
   "metadata": {},
   "outputs": [],
   "source": [
    "me = \"erik\"\n",
    "locs = ['actic']"
   ]
  },
  {
   "cell_type": "code",
   "execution_count": null,
   "metadata": {},
   "outputs": [],
   "source": [
    "dfs = locate.load_all_dfs()\n",
    "dfs[me].resample(\"24H\").apply(\"mean\").tail(5)"
   ]
  },
  {
   "cell_type": "code",
   "execution_count": null,
   "metadata": {
    "scrolled": false
   },
   "outputs": [],
   "source": [
    "#with io.capture_output():\n",
    "start_loc = datetime(2015, 1, 1)\n",
    "for loc in locs:\n",
    "    plt.figure(figsize=(16, 3))\n",
    "    plt.title(loc)\n",
    "    locate.main_plot(dfs, me, loc, start=start_loc);"
   ]
  },
  {
   "cell_type": "markdown",
   "metadata": {},
   "source": [
    "# Drugs & Supplements"
   ]
  },
  {
   "cell_type": "code",
   "execution_count": null,
   "metadata": {},
   "outputs": [],
   "source": [
    "import sys\n",
    "sys.path.insert(0,'./QSlang')\n",
    "\n",
    "from qslang import main"
   ]
  },
  {
   "cell_type": "markdown",
   "metadata": {},
   "source": [
    "# Testing"
   ]
  },
  {
   "cell_type": "code",
   "execution_count": null,
   "metadata": {
    "scrolled": true
   },
   "outputs": [],
   "source": [
    "#print(dir(lib))\n",
    "display(HTML('<h1>Hello, world!</h1>'))"
   ]
  },
  {
   "cell_type": "markdown",
   "metadata": {},
   "source": [
    "# Notebook hacks"
   ]
  },
  {
   "cell_type": "code",
   "execution_count": null,
   "metadata": {},
   "outputs": [],
   "source": [
    "# Doesn't work in Jupyter Lab because it lacks jQuery\n",
    "HTML('''<script>\n",
    "code_show=true; \n",
    "function code_toggle() {\n",
    "  if(code_show){\n",
    "    $('div.input').hide();\n",
    "    $('div.jp-InputArea').hide();\n",
    "  } else {\n",
    "    $('div.input').show();\n",
    "    $('div.jp-InputArea').show();\n",
    "  }\n",
    "  code_show = !code_show\n",
    "} \n",
    "$(document).ready(code_toggle);\n",
    "</script>\n",
    "<form action=\"javascript:code_toggle()\"><input type=\"submit\" value=\"Click here to toggle on/off the raw code.\"></form>''')"
   ]
  },
  {
   "cell_type": "code",
   "execution_count": null,
   "metadata": {},
   "outputs": [],
   "source": [
    "CSS = \"\"\"\n",
    ".output {\n",
    "/*\n",
    "    flex-direction: row;\n",
    "    flew-wrap: wrap;\n",
    "*/\n",
    "}\n",
    "\n",
    "div.output_area > div.prompt {\n",
    "  /*\n",
    "  display: none;\n",
    "  min-width: 0em;\n",
    "  border-left: 0.4em solid black;\n",
    "    */\n",
    "}\n",
    "\n",
    "div.output > div.output_area {\n",
    "  flex-grow: 1;\n",
    "  min-width: 50%;\n",
    "}\n",
    "\"\"\"\n",
    "\n",
    "HTML('<style>{}</style>'.format(CSS))"
   ]
  }
 ],
 "metadata": {
  "kernelspec": {
   "display_name": "quantifiedme-mjhrr-x7",
   "language": "python",
   "name": "quantifiedme-mjhrr-x7"
  },
  "language_info": {
   "codemirror_mode": {
    "name": "ipython",
    "version": 3
   },
   "file_extension": ".py",
   "mimetype": "text/x-python",
   "name": "python",
   "nbconvert_exporter": "python",
   "pygments_lexer": "ipython3",
   "version": "3.7.1"
  }
 },
 "nbformat": 4,
 "nbformat_minor": 2
}
